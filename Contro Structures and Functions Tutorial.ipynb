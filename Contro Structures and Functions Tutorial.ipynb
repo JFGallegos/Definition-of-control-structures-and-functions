{
 "cells": [
  {
   "cell_type": "markdown",
   "metadata": {},
   "source": [
    "# Definition of control structures and functions"
   ]
  },
  {
   "cell_type": "markdown",
   "metadata": {},
   "source": [
    "## Control structures"
   ]
  },
  {
   "cell_type": "code",
   "execution_count": 1,
   "metadata": {},
   "outputs": [],
   "source": [
    "# Apart from the while loop,\n",
    "# Python also has the control structures found in other programming languages, but with some peculiarities."
   ]
  },
  {
   "cell_type": "markdown",
   "metadata": {},
   "source": [
    "### if"
   ]
  },
  {
   "cell_type": "code",
   "execution_count": 2,
   "metadata": {},
   "outputs": [
    {
     "name": "stdin",
     "output_type": "stream",
     "text": [
      "Please enter an integer:  5\n"
     ]
    },
    {
     "name": "stdout",
     "output_type": "stream",
     "text": [
      "Plus\n"
     ]
    }
   ],
   "source": [
    "x = int(input(\"Please enter an integer: \"))\n",
    "\n",
    "if x < 0:\n",
    "    x = 0\n",
    "    print ('Negatif replaced by 0')\n",
    "elif x == 0:\n",
    "    print ('Zero')\n",
    "elif x == 1:\n",
    "    print ('One')\n",
    "else:\n",
    "    print ('Plus')\n",
    "    \n",
    "## Similar to the else, the elif statement is optional. \n",
    "## However, unlike else, for which there can be at most one statement, there can be an arbitrary number of elif statements following an if.\n"
   ]
  },
  {
   "cell_type": "markdown",
   "metadata": {},
   "source": [
    "### for"
   ]
  },
  {
   "cell_type": "code",
   "execution_count": 3,
   "metadata": {},
   "outputs": [],
   "source": [
    "## for in Python iterates over the elements of a sequence (e.g., list or string) in the order they appear. For example:"
   ]
  },
  {
   "cell_type": "code",
   "execution_count": 4,
   "metadata": {},
   "outputs": [
    {
     "name": "stdout",
     "output_type": "stream",
     "text": [
      "cat 3\n",
      "window 6\n",
      "defenestrate 12\n"
     ]
    }
   ],
   "source": [
    "# Mesure the lenght of the following words:\n",
    "\n",
    "a = ['cat', 'window', 'defenestrate']\n",
    "for x in a:\n",
    "      print (x, len(x))"
   ]
  },
  {
   "cell_type": "code",
   "execution_count": 5,
   "metadata": {},
   "outputs": [],
   "source": [
    "## It is not safe to modify a sequence (eg a list since it is mutable) during the iteration.\n",
    "## It is better to iterate over a copy of the list. To get there, we can use slicing:\n",
    "\n",
    "for x in a[:]: # create a slice: copy the entire list\n",
    "    if len(x) > 6: a.insert(0, x)\n"
   ]
  },
  {
   "cell_type": "code",
   "execution_count": 6,
   "metadata": {},
   "outputs": [
    {
     "name": "stdout",
     "output_type": "stream",
     "text": [
      "['defenestrate', 'cat', 'window', 'defenestrate']\n"
     ]
    }
   ],
   "source": [
    "print (a)"
   ]
  },
  {
   "cell_type": "markdown",
   "metadata": {},
   "source": [
    "### Range"
   ]
  },
  {
   "cell_type": "code",
   "execution_count": 7,
   "metadata": {},
   "outputs": [],
   "source": [
    "## If you need to iterate among a sequence of numbers, the built-in function range () is very convenient.\n",
    "## It generates a list containing an arithmetic sequence:\n",
    "\n",
    "b = []\n",
    "\n",
    "for i in range(10):\n",
    "    b.append(i)\n"
   ]
  },
  {
   "cell_type": "code",
   "execution_count": 8,
   "metadata": {},
   "outputs": [
    {
     "data": {
      "text/plain": [
       "[0, 1, 2, 3, 4, 5, 6, 7, 8, 9]"
      ]
     },
     "execution_count": 8,
     "metadata": {},
     "output_type": "execute_result"
    }
   ],
   "source": [
    "b"
   ]
  },
  {
   "cell_type": "code",
   "execution_count": 9,
   "metadata": {},
   "outputs": [],
   "source": [
    "## It is possible to specify the start and the intervals using range:\n",
    "\n",
    "c = []\n",
    "\n",
    "for i in range(0,10,2):\n",
    "    c.append(i)"
   ]
  },
  {
   "cell_type": "code",
   "execution_count": 10,
   "metadata": {},
   "outputs": [
    {
     "data": {
      "text/plain": [
       "[0, 2, 4, 6, 8]"
      ]
     },
     "execution_count": 10,
     "metadata": {},
     "output_type": "execute_result"
    }
   ],
   "source": [
    "c"
   ]
  },
  {
   "cell_type": "code",
   "execution_count": 11,
   "metadata": {},
   "outputs": [
    {
     "name": "stdout",
     "output_type": "stream",
     "text": [
      "0 Mary\n",
      "1 had\n",
      "2 a\n",
      "3 little\n",
      "4 lamb\n"
     ]
    }
   ],
   "source": [
    "## To iterate among the possible indices of a sequence, we combine range () and len ():\n",
    "\n",
    "a = ['Mary', 'had', 'a', 'little', 'lamb']\n",
    "\n",
    "for i in range(len(a)):\n",
    "     print (i, a[i])"
   ]
  },
  {
   "cell_type": "code",
   "execution_count": 12,
   "metadata": {},
   "outputs": [],
   "source": [
    "## The break keyword, as in C, ends the current loop: for or while."
   ]
  },
  {
   "cell_type": "markdown",
   "metadata": {},
   "source": [
    "## Functions"
   ]
  },
  {
   "cell_type": "code",
   "execution_count": 13,
   "metadata": {},
   "outputs": [],
   "source": [
    "# Define a function that writes the Fibonacci sequence to a given number as a result:\n",
    "\n",
    "def fib(n):    # writte Fibonacci series till n\n",
    "     \n",
    "# display a Fibonacci series till n.\"\"\"\n",
    "        a, b = 0, 1\n",
    "        while a < n:\n",
    "             print (a)   ## Note that intendation is important when writting a function \n",
    "             a, b = b, a+b           "
   ]
  },
  {
   "cell_type": "code",
   "execution_count": 14,
   "metadata": {},
   "outputs": [
    {
     "name": "stdout",
     "output_type": "stream",
     "text": [
      "0\n",
      "1\n",
      "1\n",
      "2\n",
      "3\n",
      "5\n",
      "8\n",
      "13\n",
      "21\n",
      "34\n",
      "55\n",
      "89\n",
      "144\n",
      "233\n",
      "377\n",
      "610\n",
      "987\n",
      "1597\n"
     ]
    }
   ],
   "source": [
    "#E.g., Call all the numbers of the Fibonnacci series smaller than 2000\n",
    "\n",
    "fib(2000)"
   ]
  },
  {
   "cell_type": "code",
   "execution_count": 15,
   "metadata": {},
   "outputs": [],
   "source": [
    "## Now lets define the function to return the results in a list\n",
    "\n",
    "def fib2(n): # returns the Fibonacci series till n  \n",
    "\n",
    "### return Fibonacci series list till n\n",
    "\n",
    "    result = []\n",
    "    a, b = 0, 1\n",
    "    while b < n:\n",
    "        result.append(b)\n",
    "        a, b = b, a+b\n",
    "    return result   ## Note that identation is important, this is what the function will return\n",
    "\n",
    "# In this example, the return keyword allows the function to return a value. \n",
    "# If the function does not explicitly return a value (by default), the function will return None (can be seen as a kind of null pointer)"
   ]
  },
  {
   "cell_type": "code",
   "execution_count": 16,
   "metadata": {},
   "outputs": [
    {
     "data": {
      "text/plain": [
       "[1, 1, 2, 3, 5, 8, 13, 21, 34, 55, 89, 144, 233, 377, 610, 987, 1597]"
      ]
     },
     "execution_count": 16,
     "metadata": {},
     "output_type": "execute_result"
    }
   ],
   "source": [
    "# E.g., Call all the numbers of the Fibonnacci series smaller than 2000\n",
    "# Now we get the results in a list\n",
    "\n",
    "fib2(2000)"
   ]
  },
  {
   "cell_type": "markdown",
   "metadata": {},
   "source": [
    "## Default arguments"
   ]
  },
  {
   "cell_type": "code",
   "execution_count": 17,
   "metadata": {},
   "outputs": [],
   "source": [
    "# This allows you to create a function that can be called with fewer arguments. For example:\n",
    "\n",
    "def ask_ok(prompt, retries = 4, complaint='Yes or no, please!'):\n",
    "    \n",
    "    while True:\n",
    "        \n",
    "        ok = input(prompt)\n",
    "        \n",
    "        if ok in ('y', 'ye', 'yes'):\n",
    "            \n",
    "            return True\n",
    "        \n",
    "        if ok in ('n', 'no', 'nop', 'nope'):\n",
    "            \n",
    "            return False\n",
    "        \n",
    "        retries = retries - 1\n",
    "        \n",
    "        if retries < 0:\n",
    "            \n",
    "            raise IOError('refusenik user')\n",
    "        \n",
    "        print (complaint)\n",
    "        \n",
    "        "
   ]
  },
  {
   "cell_type": "code",
   "execution_count": 18,
   "metadata": {},
   "outputs": [
    {
     "name": "stdin",
     "output_type": "stream",
     "text": [
      "Do you really want to quit? n\n"
     ]
    },
    {
     "data": {
      "text/plain": [
       "False"
      ]
     },
     "execution_count": 18,
     "metadata": {},
     "output_type": "execute_result"
    }
   ],
   "source": [
    "## Call function only with one argument prompt\n",
    "ask_ok(\"Do you really want to quit?\")"
   ]
  },
  {
   "cell_type": "code",
   "execution_count": 19,
   "metadata": {},
   "outputs": [
    {
     "name": "stdin",
     "output_type": "stream",
     "text": [
      "OK to overwrite the file? y\n"
     ]
    },
    {
     "data": {
      "text/plain": [
       "True"
      ]
     },
     "execution_count": 19,
     "metadata": {},
     "output_type": "execute_result"
    }
   ],
   "source": [
    "## Call function only with argument prompt and retries\n",
    "\n",
    "ask_ok('OK to overwrite the file?', 2)"
   ]
  },
  {
   "cell_type": "code",
   "execution_count": 20,
   "metadata": {},
   "outputs": [
    {
     "name": "stdin",
     "output_type": "stream",
     "text": [
      "OK to overwrite the file? y\n"
     ]
    },
    {
     "data": {
      "text/plain": [
       "True"
      ]
     },
     "execution_count": 20,
     "metadata": {},
     "output_type": "execute_result"
    }
   ],
   "source": [
    "## Call function specifying all arguments\n",
    "\n",
    "ask_ok('OK to overwrite the file?', 2, 'Come on, only yes or no!')"
   ]
  },
  {
   "cell_type": "code",
   "execution_count": 21,
   "metadata": {},
   "outputs": [],
   "source": [
    "## Arguments by key word\n",
    "\n",
    "def parrot(voltage, state='a stiff', action='voom', type='Norwegian Blue'):\n",
    "    print (\"-- This parrot wouldn't\", action)\n",
    "    print (\"if you put\", voltage, \"volts through it.\")\n",
    "    print (\"-- Lovely plumage, the\", type)\n",
    "    print (\"-- It's\", state, \"!\")\n",
    "    \n",
    "# This function has a mandatory argument (voltage) and three optional arguments (state, action, and type).\n"
   ]
  },
  {
   "cell_type": "code",
   "execution_count": 22,
   "metadata": {},
   "outputs": [
    {
     "name": "stdout",
     "output_type": "stream",
     "text": [
      "-- This parrot wouldn't voom\n",
      "if you put 1000 volts through it.\n",
      "-- Lovely plumage, the Norwegian Blue\n",
      "-- It's a stiff !\n",
      "-- This parrot wouldn't voom\n",
      "if you put 1000 volts through it.\n",
      "-- Lovely plumage, the Norwegian Blue\n",
      "-- It's a stiff !\n",
      "-- This parrot wouldn't VOOOOOM\n",
      "if you put 1000000 volts through it.\n",
      "-- Lovely plumage, the Norwegian Blue\n",
      "-- It's a stiff !\n",
      "-- This parrot wouldn't VOOOOOM\n",
      "if you put 1000000 volts through it.\n",
      "-- Lovely plumage, the Norwegian Blue\n",
      "-- It's a stiff !\n",
      "-- This parrot wouldn't jump\n",
      "if you put a million volts through it.\n",
      "-- Lovely plumage, the Norwegian Blue\n",
      "-- It's bereft of life !\n",
      "-- This parrot wouldn't voom\n",
      "if you put a thousand volts through it.\n",
      "-- Lovely plumage, the Norwegian Blue\n",
      "-- It's pushing up the daisies !\n"
     ]
    }
   ],
   "source": [
    "# This function can be called in these different ways:\n",
    "\n",
    "parrot(1000)                                          # 1 argument positional\n",
    "parrot(voltage=1000)                                  # 1 argument key word\n",
    "parrot(voltage=1000000, action='VOOOOOM')             # 2 argument key word\n",
    "parrot(action='VOOOOOM', voltage=1000000)             # 2 arguments key word\n",
    "parrot('a million', 'bereft of life', 'jump')         # 3 arguments positionals\n",
    "parrot('a thousand', state='pushing up the daisies')  # 1 argument posititional, 1 argument key word"
   ]
  }
 ],
 "metadata": {
  "kernelspec": {
   "display_name": "Python 3",
   "language": "python",
   "name": "python3"
  },
  "language_info": {
   "codemirror_mode": {
    "name": "ipython",
    "version": 3
   },
   "file_extension": ".py",
   "mimetype": "text/x-python",
   "name": "python",
   "nbconvert_exporter": "python",
   "pygments_lexer": "ipython3",
   "version": "3.7.1"
  }
 },
 "nbformat": 4,
 "nbformat_minor": 2
}
